{
 "cells": [
  {
   "cell_type": "code",
   "execution_count": 1,
   "metadata": {},
   "outputs": [],
   "source": [
    "from mnist_tools import load_mnist, plot_images\n",
    "\n",
    "train_x, train_y, test_x, test_y = load_mnist()\n",
    "\n",
    "train_x = train_x.reshape(-1, 28 * 28).astype(float) / 255\n",
    "test_x = test_x.reshape(-1, 28 * 28).astype(float) / 255"
   ]
  },
  {
   "cell_type": "markdown",
   "metadata": {},
   "source": [
    "自编码器："
   ]
  },
  {
   "cell_type": "markdown",
   "metadata": {},
   "source": [
    "$x \\rightarrow f(x) \\rightarrow g(f(x)) \\approx x$ \n",
    "\n",
    "- 编码器：f\n",
    "- 解码器：g"
   ]
  },
  {
   "cell_type": "code",
   "execution_count": 2,
   "metadata": {},
   "outputs": [
    {
     "name": "stderr",
     "output_type": "stream",
     "text": [
      "Using TensorFlow backend.\n"
     ]
    }
   ],
   "source": [
    "import keras\n",
    "from keras import Sequential, Model\n",
    "from keras.layers import *"
   ]
  },
  {
   "cell_type": "markdown",
   "metadata": {},
   "source": [
    "sigmoid，会把实数映射到0-1之间"
   ]
  },
  {
   "cell_type": "code",
   "execution_count": 3,
   "metadata": {},
   "outputs": [],
   "source": [
    "encoder = Sequential()\n",
    "\n",
    "encoder.add(Dense(512, input_dim=784, activation=\"relu\"))\n",
    "encoder.add(Dense(256, activation=\"relu\"))\n",
    "encoder.add(Dense(128, activation=\"relu\"))\n",
    "\n",
    "decoder = Sequential()\n",
    "\n",
    "decoder.add(Dense(256, input_dim=128, activation=\"relu\"))\n",
    "decoder.add(Dense(512, activation=\"relu\"))\n",
    "decoder.add(Dense(784, activation=\"sigmoid\"))\n",
    "\n",
    "model = Sequential()\n",
    "model.add(encoder)\n",
    "model.add(decoder)\n",
    "\n",
    "model.compile(loss=\"mse\", optimizer=\"adam\") # mse 最小均方误差"
   ]
  },
  {
   "cell_type": "code",
   "execution_count": 4,
   "metadata": {},
   "outputs": [
    {
     "name": "stdout",
     "output_type": "stream",
     "text": [
      "_________________________________________________________________\n",
      "Layer (type)                 Output Shape              Param #   \n",
      "=================================================================\n",
      "sequential_1 (Sequential)    (None, 128)               566144    \n",
      "_________________________________________________________________\n",
      "sequential_2 (Sequential)    (None, 784)               566800    \n",
      "=================================================================\n",
      "Total params: 1,132,944\n",
      "Trainable params: 1,132,944\n",
      "Non-trainable params: 0\n",
      "_________________________________________________________________\n"
     ]
    }
   ],
   "source": [
    "model.summary()"
   ]
  },
  {
   "cell_type": "code",
   "execution_count": 5,
   "metadata": {},
   "outputs": [
    {
     "name": "stdout",
     "output_type": "stream",
     "text": [
      "Train on 48000 samples, validate on 12000 samples\n",
      "Epoch 1/5\n",
      "48000/48000 [==============================] - 20s 411us/step - loss: 0.0207 - val_loss: 0.0109\n",
      "Epoch 2/5\n",
      "48000/48000 [==============================] - 19s 387us/step - loss: 0.0089 - val_loss: 0.0079\n",
      "Epoch 3/5\n",
      "48000/48000 [==============================] - 19s 391us/step - loss: 0.0071 - val_loss: 0.0068\n",
      "Epoch 4/5\n",
      "48000/48000 [==============================] - 19s 402us/step - loss: 0.0062 - val_loss: 0.0062\n",
      "Epoch 5/5\n",
      "48000/48000 [==============================] - 20s 414us/step - loss: 0.0057 - val_loss: 0.0058\n"
     ]
    },
    {
     "data": {
      "text/plain": [
       "<keras.callbacks.History at 0x135547e80>"
      ]
     },
     "execution_count": 5,
     "metadata": {},
     "output_type": "execute_result"
    }
   ],
   "source": [
    "model.fit(train_x, train_x, \n",
    "          validation_split=0.2, \n",
    "          shuffle=True, epochs=5)"
   ]
  },
  {
   "cell_type": "code",
   "execution_count": 6,
   "metadata": {},
   "outputs": [],
   "source": [
    "pre_x = model.predict(test_x[:50]).reshape(-1, 28, 28)"
   ]
  },
  {
   "cell_type": "code",
   "execution_count": 11,
   "metadata": {},
   "outputs": [
    {
     "data": {
      "image/png": "[encoded data removed]",
      "text/plain": [
       "<Figure size 432x288 with 1 Axes>"
      ]
     },
     "metadata": {},
     "output_type": "display_data"
    }
   ],
   "source": [
    "plot_images(test_x.reshape(-1, 28, 28), 1, 1)"
   ]
  },
  {
   "cell_type": "code",
   "execution_count": 10,
   "metadata": {},
   "outputs": [
    {
     "data": {
      "image/png": "[encoded data removed]",
      "text/plain": [
       "<Figure size 432x288 with 1 Axes>"
      ]
     },
     "metadata": {},
     "output_type": "display_data"
    }
   ],
   "source": [
    "plot_images(pre_x, 2, 2)"
   ]
  },
  {
   "cell_type": "markdown",
   "metadata": {},
   "source": [
    "RNN："
   ]
  },
  {
   "cell_type": "code",
   "execution_count": 12,
   "metadata": {},
   "outputs": [],
   "source": [
    "x = Input(shape=(784,))\n",
    "reshape_x = Reshape(target_shape=(28, 28, 1))(x)"
   ]
  },
  {
   "cell_type": "code",
   "execution_count": 13,
   "metadata": {},
   "outputs": [],
   "source": [
    "row_hidden = TimeDistributed(LSTM(32))(reshape_x)"
   ]
  },
  {
   "cell_type": "code",
   "execution_count": 14,
   "metadata": {},
   "outputs": [],
   "source": [
    "col_hidden = LSTM(32)(row_hidden)"
   ]
  },
  {
   "cell_type": "code",
   "execution_count": 15,
   "metadata": {},
   "outputs": [],
   "source": [
    "predict = Dense(10, activation=\"softmax\")(col_hidden)"
   ]
  },
  {
   "cell_type": "code",
   "execution_count": 16,
   "metadata": {},
   "outputs": [],
   "source": [
    "model = Model(x, predict)"
   ]
  },
  {
   "cell_type": "code",
   "execution_count": 17,
   "metadata": {},
   "outputs": [],
   "source": [
    "model.compile(loss=\"sparse_categorical_crossentropy\", metrics=[\"accuracy\"], optimizer=\"adam\")"
   ]
  },
  {
   "cell_type": "code",
   "execution_count": 19,
   "metadata": {},
   "outputs": [
    {
     "name": "stdout",
     "output_type": "stream",
     "text": [
      "_________________________________________________________________\n",
      "Layer (type)                 Output Shape              Param #   \n",
      "=================================================================\n",
      "input_1 (InputLayer)         (None, 784)               0         \n",
      "_________________________________________________________________\n",
      "reshape_1 (Reshape)          (None, 28, 28, 1)         0         \n",
      "_________________________________________________________________\n",
      "time_distributed_1 (TimeDist (None, 28, 32)            4352      \n",
      "_________________________________________________________________\n",
      "lstm_2 (LSTM)                (None, 32)                8320      \n",
      "_________________________________________________________________\n",
      "dense_7 (Dense)              (None, 10)                330       \n",
      "=================================================================\n",
      "Total params: 13,002\n",
      "Trainable params: 13,002\n",
      "Non-trainable params: 0\n",
      "_________________________________________________________________\n"
     ]
    }
   ],
   "source": [
    "model.summary()"
   ]
  },
  {
   "cell_type": "code",
   "execution_count": null,
   "metadata": {},
   "outputs": [
    {
     "name": "stdout",
     "output_type": "stream",
     "text": [
      "Train on 60000 samples, validate on 10000 samples\n",
      "Epoch 1/3\n",
      "60000/60000 [==============================] - 124s 2ms/step - loss: 1.1012 - acc: 0.6124 - val_loss: 0.5399 - val_acc: 0.8141\n",
      "Epoch 2/3\n",
      "60000/60000 [==============================] - 126s 2ms/step - loss: 0.4298 - acc: 0.8611 - val_loss: 0.2959 - val_acc: 0.9094\n",
      "Epoch 3/3\n",
      "14400/60000 [======>.......................] - ETA: 1:06 - loss: 0.3254 - acc: 0.9031"
     ]
    }
   ],
   "source": [
    "hist = model.fit(train_x, train_y, batch_size=100, epochs=3, validation_data=(test_x, test_y))"
   ]
  },
  {
   "cell_type": "markdown",
   "metadata": {},
   "source": [
    "keras各种实现：\n",
    "\n",
    "https://github.com/keras-team/keras/tree/master/examples\n",
    "\n",
    "pytorch,tensorflow：\n",
    "\n",
    "http://nbviewer.jupyter.org/github/rasbt/deep-learning-book/tree/master/code/model_zoo/"
   ]
  },
  {
   "cell_type": "markdown",
   "metadata": {},
   "source": [
    "实现，多跑跑别人的代码，多看算法本身。"
   ]
  },
  {
   "cell_type": "code",
   "execution_count": null,
   "metadata": {},
   "outputs": [],
   "source": []
  }
 ],
 "metadata": {
  "kernelspec": {
   "display_name": "Python 3",
   "language": "python",
   "name": "python3"
  },
  "language_info": {
   "codemirror_mode": {
    "name": "ipython",
    "version": 3
   },
   "file_extension": ".py",
   "mimetype": "text/x-python",
   "name": "python",
   "nbconvert_exporter": "python",
   "pygments_lexer": "ipython3",
   "version": "3.6.5"
  }
 },
 "nbformat": 4,
 "nbformat_minor": 2
}
