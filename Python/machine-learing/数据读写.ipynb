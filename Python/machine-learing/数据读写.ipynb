{
 "cells": [
  {
   "cell_type": "code",
   "execution_count": 1,
   "metadata": {},
   "outputs": [],
   "source": [
    "import pandas as pd"
   ]
  },
  {
   "cell_type": "markdown",
   "metadata": {},
   "source": [
    "# JSON"
   ]
  },
  {
   "cell_type": "code",
   "execution_count": 2,
   "metadata": {},
   "outputs": [],
   "source": [
    "import json"
   ]
  },
  {
   "cell_type": "markdown",
   "metadata": {},
   "source": [
    "- object\n",
    "    - `{pair1, ..., pairn}`\n",
    "- pair\n",
    "    - `string: value`\n",
    "- array\n",
    "    - `[value1, value2, ..., valuen]`\n",
    "- value\n",
    "    - `object`\n",
    "    - `string`\n",
    "    - `number`\n",
    "    - `array`"
   ]
  },
  {
   "cell_type": "code",
   "execution_count": 3,
   "metadata": {},
   "outputs": [],
   "source": [
    "a = \"\"\"\n",
    "{\n",
    "    \"name\":\"张三\",\n",
    "    \"年龄\":23,\n",
    "    \"编程\": [\"C++\", \"matlab\", \"python\"],\n",
    "    \"爱好\": {\n",
    "        \"足球\": 10,\n",
    "        \"羽毛球\": 5,\n",
    "        \"读书\": 13\n",
    "    }\n",
    "}\n",
    "\"\"\""
   ]
  },
  {
   "cell_type": "code",
   "execution_count": 4,
   "metadata": {},
   "outputs": [
    {
     "data": {
      "text/plain": [
       "'\\n{\\n    \"name\":\"张三\",\\n    \"年龄\":23,\\n    \"编程\": [\"C++\", \"matlab\", \"python\"],\\n    \"爱好\": {\\n        \"足球\": 10,\\n        \"羽毛球\": 5,\\n        \"读书\": 13\\n    }\\n}\\n'"
      ]
     },
     "execution_count": 4,
     "metadata": {},
     "output_type": "execute_result"
    }
   ],
   "source": [
    "a"
   ]
  },
  {
   "cell_type": "code",
   "execution_count": 5,
   "metadata": {},
   "outputs": [],
   "source": [
    "d = json.loads(a)"
   ]
  },
  {
   "cell_type": "code",
   "execution_count": 6,
   "metadata": {},
   "outputs": [
    {
     "data": {
      "text/plain": [
       "{'name': '张三',\n",
       " '年龄': 23,\n",
       " '编程': ['C++', 'matlab', 'python'],\n",
       " '爱好': {'足球': 10, '羽毛球': 5, '读书': 13}}"
      ]
     },
     "execution_count": 6,
     "metadata": {},
     "output_type": "execute_result"
    }
   ],
   "source": [
    "d"
   ]
  },
  {
   "cell_type": "code",
   "execution_count": 7,
   "metadata": {},
   "outputs": [
    {
     "data": {
      "text/plain": [
       "'张三'"
      ]
     },
     "execution_count": 7,
     "metadata": {},
     "output_type": "execute_result"
    }
   ],
   "source": [
    "d[\"name\"]"
   ]
  },
  {
   "cell_type": "code",
   "execution_count": 8,
   "metadata": {},
   "outputs": [
    {
     "name": "stdout",
     "output_type": "stream",
     "text": [
      "{'name': '张三', '年龄': 23, '编程': ['C++', 'matlab', 'python'], '爱好': {'足球': 10, '羽毛球': 5, '读书': 13}}\n"
     ]
    }
   ],
   "source": [
    "print(d)"
   ]
  },
  {
   "cell_type": "code",
   "execution_count": 9,
   "metadata": {},
   "outputs": [
    {
     "name": "stdout",
     "output_type": "stream",
     "text": [
      "{\"name\": \"\\u5f20\\u4e09\", \"\\u5e74\\u9f84\": 23, \"\\u7f16\\u7a0b\": [\"C++\", \"matlab\", \"python\"], \"\\u7231\\u597d\": {\"\\u8db3\\u7403\": 10, \"\\u7fbd\\u6bdb\\u7403\": 5, \"\\u8bfb\\u4e66\": 13}}\n"
     ]
    }
   ],
   "source": [
    "print(json.dumps(d))"
   ]
  },
  {
   "cell_type": "code",
   "execution_count": 10,
   "metadata": {},
   "outputs": [],
   "source": [
    "import pprint"
   ]
  },
  {
   "cell_type": "code",
   "execution_count": 11,
   "metadata": {},
   "outputs": [
    {
     "name": "stdout",
     "output_type": "stream",
     "text": [
      "{'name': '张三',\n",
      " '年龄': 23,\n",
      " '爱好': {'羽毛球': 5, '读书': 13, '足球': 10},\n",
      " '编程': ['C++', 'matlab', 'python']}\n"
     ]
    }
   ],
   "source": [
    "pprint.pprint(d)"
   ]
  },
  {
   "cell_type": "code",
   "execution_count": 12,
   "metadata": {},
   "outputs": [],
   "source": [
    "with open(\"info.json\", \"w\") as f:\n",
    "    json.dump(d, f)"
   ]
  },
  {
   "cell_type": "code",
   "execution_count": 13,
   "metadata": {},
   "outputs": [],
   "source": [
    "with open(\"info.json\") as f:\n",
    "    d2 = json.load(f)"
   ]
  },
  {
   "cell_type": "code",
   "execution_count": 14,
   "metadata": {},
   "outputs": [
    {
     "data": {
      "text/plain": [
       "{'name': '张三',\n",
       " '年龄': 23,\n",
       " '编程': ['C++', 'matlab', 'python'],\n",
       " '爱好': {'足球': 10, '羽毛球': 5, '读书': 13}}"
      ]
     },
     "execution_count": 14,
     "metadata": {},
     "output_type": "execute_result"
    }
   ],
   "source": [
    "d2"
   ]
  },
  {
   "cell_type": "markdown",
   "metadata": {},
   "source": [
    "# pickle"
   ]
  },
  {
   "cell_type": "code",
   "execution_count": 15,
   "metadata": {},
   "outputs": [],
   "source": [
    "import pickle"
   ]
  },
  {
   "cell_type": "code",
   "execution_count": 16,
   "metadata": {},
   "outputs": [
    {
     "data": {
      "text/plain": [
       "b'\\x80\\x03}q\\x00(X\\x04\\x00\\x00\\x00nameq\\x01X\\x06\\x00\\x00\\x00\\xe5\\xbc\\xa0\\xe4\\xb8\\x89q\\x02X\\x06\\x00\\x00\\x00\\xe5\\xb9\\xb4\\xe9\\xbe\\x84q\\x03K\\x17X\\x06\\x00\\x00\\x00\\xe7\\xbc\\x96\\xe7\\xa8\\x8bq\\x04]q\\x05(X\\x03\\x00\\x00\\x00C++q\\x06X\\x06\\x00\\x00\\x00matlabq\\x07X\\x06\\x00\\x00\\x00pythonq\\x08eX\\x06\\x00\\x00\\x00\\xe7\\x88\\xb1\\xe5\\xa5\\xbdq\\t}q\\n(X\\x06\\x00\\x00\\x00\\xe8\\xb6\\xb3\\xe7\\x90\\x83q\\x0bK\\nX\\t\\x00\\x00\\x00\\xe7\\xbe\\xbd\\xe6\\xaf\\x9b\\xe7\\x90\\x83q\\x0cK\\x05X\\x06\\x00\\x00\\x00\\xe8\\xaf\\xbb\\xe4\\xb9\\xa6q\\rK\\ruu.'"
      ]
     },
     "execution_count": 16,
     "metadata": {},
     "output_type": "execute_result"
    }
   ],
   "source": [
    "s = pickle.dumps(d)\n",
    "s"
   ]
  },
  {
   "cell_type": "code",
   "execution_count": 17,
   "metadata": {},
   "outputs": [
    {
     "data": {
      "text/plain": [
       "{'name': '张三',\n",
       " '年龄': 23,\n",
       " '编程': ['C++', 'matlab', 'python'],\n",
       " '爱好': {'足球': 10, '羽毛球': 5, '读书': 13}}"
      ]
     },
     "execution_count": 17,
     "metadata": {},
     "output_type": "execute_result"
    }
   ],
   "source": [
    "pickle.loads(s)"
   ]
  },
  {
   "cell_type": "markdown",
   "metadata": {},
   "source": [
    "`wb 写入 bites`"
   ]
  },
  {
   "cell_type": "code",
   "execution_count": 18,
   "metadata": {},
   "outputs": [],
   "source": [
    "with open(\"info.pkl\", \"wb\") as f:\n",
    "    pickle.dump(d, f)"
   ]
  },
  {
   "cell_type": "code",
   "execution_count": 19,
   "metadata": {},
   "outputs": [],
   "source": [
    "with open(\"info.pkl\", \"rb\") as f:\n",
    "    d3 = pickle.load(f)"
   ]
  },
  {
   "cell_type": "code",
   "execution_count": 20,
   "metadata": {},
   "outputs": [
    {
     "data": {
      "text/plain": [
       "{'name': '张三',\n",
       " '年龄': 23,\n",
       " '编程': ['C++', 'matlab', 'python'],\n",
       " '爱好': {'足球': 10, '羽毛球': 5, '读书': 13}}"
      ]
     },
     "execution_count": 20,
     "metadata": {},
     "output_type": "execute_result"
    }
   ],
   "source": [
    "d3"
   ]
  },
  {
   "cell_type": "markdown",
   "metadata": {},
   "source": [
    "# h5"
   ]
  },
  {
   "cell_type": "code",
   "execution_count": 21,
   "metadata": {},
   "outputs": [],
   "source": [
    "import h5py"
   ]
  },
  {
   "cell_type": "code",
   "execution_count": 22,
   "metadata": {},
   "outputs": [],
   "source": [
    "f  = h5py.File(\"info.h5\")"
   ]
  },
  {
   "cell_type": "code",
   "execution_count": 25,
   "metadata": {},
   "outputs": [],
   "source": [
    "# f.create_dataset(\"data\", shape=(10,20))"
   ]
  },
  {
   "cell_type": "code",
   "execution_count": 26,
   "metadata": {},
   "outputs": [],
   "source": [
    "import numpy as np"
   ]
  },
  {
   "cell_type": "code",
   "execution_count": 27,
   "metadata": {},
   "outputs": [],
   "source": [
    "a = np.random.rand(10, 20)"
   ]
  },
  {
   "cell_type": "code",
   "execution_count": 28,
   "metadata": {},
   "outputs": [],
   "source": [
    "f[\"data\"][:] = a"
   ]
  },
  {
   "cell_type": "code",
   "execution_count": 29,
   "metadata": {},
   "outputs": [
    {
     "data": {
      "text/plain": [
       "array([[5.40438491e-01, 8.82319292e-01, 9.44111560e-02, 9.44736454e-01,\n",
       "        1.72349862e-01, 9.32383601e-01, 9.13265451e-01, 7.54709021e-01,\n",
       "        1.67903390e-01, 5.53236341e-02, 1.66644611e-01, 7.26382103e-01,\n",
       "        3.75858572e-01, 3.14221760e-01, 1.30998744e-01, 2.61114333e-01,\n",
       "        4.32675181e-01, 9.78833851e-01, 4.05611769e-01, 3.32524427e-02],\n",
       "       [8.15868446e-01, 9.21922278e-02, 2.58089560e-01, 8.62862902e-01,\n",
       "        2.05058296e-02, 9.12891008e-01, 3.34642680e-01, 5.43248091e-01,\n",
       "        9.75502355e-01, 2.10397981e-01, 5.11220789e-01, 3.07117365e-01,\n",
       "        4.11797395e-01, 8.80228803e-01, 2.32916087e-01, 7.44844905e-01,\n",
       "        2.23450102e-01, 1.00440973e-01, 9.35372242e-01, 3.96281236e-01],\n",
       "       [2.57281139e-02, 3.17323444e-02, 2.47866622e-01, 6.15005431e-01,\n",
       "        5.22006770e-02, 5.85755551e-01, 9.32998139e-01, 7.96287917e-01,\n",
       "        7.06066108e-01, 5.84116109e-01, 5.51353592e-01, 2.09390772e-01,\n",
       "        9.78478615e-01, 6.55432073e-01, 3.26001913e-01, 8.82011933e-01,\n",
       "        2.25625208e-01, 9.35025798e-01, 6.14048952e-01, 8.17063397e-01],\n",
       "       [1.97489797e-01, 2.46218815e-01, 4.89667905e-01, 5.23071402e-01,\n",
       "        2.23423250e-01, 4.22638944e-01, 4.43566775e-01, 4.15087973e-01,\n",
       "        4.61096151e-01, 5.93255147e-01, 2.13610059e-01, 4.91274621e-01,\n",
       "        5.79194017e-01, 3.54000262e-01, 8.90690157e-01, 3.35316261e-01,\n",
       "        2.88675701e-01, 8.37451597e-02, 7.13253421e-01, 1.87825146e-01],\n",
       "       [7.60873660e-02, 8.59275352e-01, 3.94166240e-01, 3.81603658e-02,\n",
       "        2.99075927e-01, 2.49076010e-01, 6.72646807e-01, 8.27694384e-01,\n",
       "        2.13380436e-01, 9.60191143e-03, 7.56876950e-02, 9.86338817e-01,\n",
       "        7.41431968e-01, 6.18854309e-01, 8.15347302e-01, 3.93151763e-01,\n",
       "        7.36334657e-01, 5.71329396e-01, 2.10386105e-01, 7.01066681e-01],\n",
       "       [5.01557180e-01, 4.09984878e-01, 8.01587299e-01, 9.72023631e-01,\n",
       "        9.66458897e-01, 7.67420742e-01, 8.27055357e-01, 7.86299827e-01,\n",
       "        5.47148416e-01, 4.46477447e-01, 4.65902239e-01, 9.60588074e-01,\n",
       "        6.12496799e-01, 2.40620915e-01, 9.63959635e-01, 1.82853145e-01,\n",
       "        3.64006621e-01, 9.66841104e-01, 6.18468530e-01, 3.24033574e-01],\n",
       "       [2.35958189e-01, 2.18560692e-01, 8.46309012e-01, 4.40948991e-02,\n",
       "        1.06939116e-01, 1.65901393e-01, 4.19592333e-01, 9.75753197e-01,\n",
       "        8.32809182e-01, 2.99397870e-01, 4.17826679e-01, 9.17503447e-02,\n",
       "        3.62790534e-01, 3.41864170e-01, 5.26151342e-01, 3.53096561e-01,\n",
       "        3.39839377e-01, 6.37120290e-01, 8.39805753e-01, 8.40973056e-01],\n",
       "       [1.20242045e-01, 9.88930214e-01, 9.20897766e-01, 4.51689988e-01,\n",
       "        3.59860784e-01, 4.18199789e-01, 5.43440469e-01, 8.70846530e-01,\n",
       "        7.38751766e-01, 9.75345476e-01, 6.52748370e-01, 4.04288936e-01,\n",
       "        8.56438183e-01, 1.95315555e-02, 5.71312570e-01, 5.40780202e-01,\n",
       "        1.17688624e-01, 6.40404117e-01, 4.15275896e-01, 3.28973121e-01],\n",
       "       [4.54801051e-01, 8.53659981e-01, 1.33527993e-01, 5.93726257e-01,\n",
       "        3.80823773e-01, 5.19212875e-04, 5.72962367e-01, 4.71818922e-01,\n",
       "        8.55938963e-01, 5.98690655e-03, 9.00201837e-01, 8.72675271e-02,\n",
       "        9.81568051e-01, 4.99274498e-01, 7.05904130e-01, 6.86364338e-01,\n",
       "        3.47667033e-01, 3.37703322e-03, 2.72712806e-01, 2.77892570e-01],\n",
       "       [6.49207249e-01, 4.11847732e-02, 9.64420538e-01, 2.22918693e-01,\n",
       "        1.49881601e-01, 8.06982836e-01, 8.80497120e-01, 9.76431426e-01,\n",
       "        3.99069301e-01, 2.54148457e-01, 9.01163661e-01, 5.72626686e-01,\n",
       "        9.35838293e-02, 8.86704611e-01, 9.12395464e-01, 9.60378136e-01,\n",
       "        1.52231419e-01, 4.92323193e-01, 7.07386720e-01, 2.91203221e-01]])"
      ]
     },
     "execution_count": 29,
     "metadata": {},
     "output_type": "execute_result"
    }
   ],
   "source": [
    "a"
   ]
  },
  {
   "cell_type": "code",
   "execution_count": 30,
   "metadata": {},
   "outputs": [],
   "source": [
    "f  = h5py.File(\"info.h5\")"
   ]
  },
  {
   "cell_type": "code",
   "execution_count": 31,
   "metadata": {},
   "outputs": [
    {
     "data": {
      "text/plain": [
       "array([0.5404385 , 0.8823193 , 0.09441116, 0.9447365 , 0.17234986,\n",
       "       0.9323836 , 0.91326547, 0.754709  , 0.1679034 , 0.05532363,\n",
       "       0.16664462, 0.7263821 , 0.37585858, 0.31422177, 0.13099875,\n",
       "       0.26111433, 0.43267518, 0.97883385, 0.40561178, 0.03325244],\n",
       "      dtype=float32)"
      ]
     },
     "execution_count": 31,
     "metadata": {},
     "output_type": "execute_result"
    }
   ],
   "source": [
    "f[\"data\"][0]"
   ]
  },
  {
   "cell_type": "markdown",
   "metadata": {},
   "source": [
    "# dhf5格式"
   ]
  },
  {
   "cell_type": "markdown",
   "metadata": {},
   "source": [
    "# 正则表达式"
   ]
  },
  {
   "cell_type": "code",
   "execution_count": 32,
   "metadata": {},
   "outputs": [],
   "source": [
    "import re"
   ]
  },
  {
   "cell_type": "code",
   "execution_count": 33,
   "metadata": {},
   "outputs": [],
   "source": [
    "data = \"\"\"\n",
    "asdasf training loss: 13.23  accuracy: 0.89 adsgafs\n",
    "training loss: 5.3  accuracy: 0.424\n",
    "asfas training loss: 2.23  accuracy: 0.323  sadasd\n",
    "training loss: 4.54  accuracy: 0.489\n",
    "training loss: 2.45  accuracy: 0.543\n",
    "training loss: 6.56  accuracy: 0.859\n",
    "\"\"\""
   ]
  },
  {
   "cell_type": "code",
   "execution_count": 34,
   "metadata": {},
   "outputs": [],
   "source": [
    "pattern = \"training loss: (\\d+\\.\\d+)  accuracy: (\\d+\\.\\d+)\""
   ]
  },
  {
   "cell_type": "code",
   "execution_count": 35,
   "metadata": {},
   "outputs": [
    {
     "data": {
      "text/plain": [
       "[('13.23', '0.89'),\n",
       " ('5.3', '0.424'),\n",
       " ('2.23', '0.323'),\n",
       " ('4.54', '0.489'),\n",
       " ('2.45', '0.543'),\n",
       " ('6.56', '0.859')]"
      ]
     },
     "execution_count": 35,
     "metadata": {},
     "output_type": "execute_result"
    }
   ],
   "source": [
    "re.findall(pattern, data)"
   ]
  },
  {
   "cell_type": "markdown",
   "metadata": {},
   "source": [
    "# collections"
   ]
  },
  {
   "cell_type": "code",
   "execution_count": 36,
   "metadata": {},
   "outputs": [],
   "source": [
    "import collections"
   ]
  },
  {
   "cell_type": "code",
   "execution_count": 39,
   "metadata": {},
   "outputs": [],
   "source": [
    "sentence = \"One two three, one two TREE.\""
   ]
  },
  {
   "cell_type": "code",
   "execution_count": 43,
   "metadata": {},
   "outputs": [],
   "source": [
    "sentence = sentence.translate(str.maketrans(\"\", \"\", \",.\")).lower().split()"
   ]
  },
  {
   "cell_type": "code",
   "execution_count": 44,
   "metadata": {},
   "outputs": [
    {
     "data": {
      "text/plain": [
       "['one', 'two', 'three', 'one', 'two', 'tree']"
      ]
     },
     "execution_count": 44,
     "metadata": {},
     "output_type": "execute_result"
    }
   ],
   "source": [
    "sentence"
   ]
  },
  {
   "cell_type": "markdown",
   "metadata": {},
   "source": [
    "每个字母显示多少次"
   ]
  },
  {
   "cell_type": "code",
   "execution_count": 49,
   "metadata": {},
   "outputs": [
    {
     "data": {
      "text/plain": [
       "Counter({'one': 2, 'two': 2, 'three': 1, 'tree': 1})"
      ]
     },
     "execution_count": 49,
     "metadata": {},
     "output_type": "execute_result"
    }
   ],
   "source": [
    "a = collections.Counter(sentence)\n",
    "a"
   ]
  },
  {
   "cell_type": "code",
   "execution_count": 51,
   "metadata": {},
   "outputs": [
    {
     "data": {
      "text/plain": [
       "Counter({'f': 3,\n",
       "         'a': 6,\n",
       "         'd': 2,\n",
       "         'h': 4,\n",
       "         'j': 5,\n",
       "         'g': 4,\n",
       "         'k': 3,\n",
       "         's': 4,\n",
       "         'b': 4,\n",
       "         ',': 2,\n",
       "         'm': 3,\n",
       "         'n': 4,\n",
       "         'l': 2})"
      ]
     },
     "execution_count": 51,
     "metadata": {},
     "output_type": "execute_result"
    }
   ],
   "source": [
    "b = collections.Counter(\"fadhjghakjshfjahkjsgbj,absmngbmnab,mngsnfldlak\")\n",
    "b "
   ]
  },
  {
   "cell_type": "code",
   "execution_count": 52,
   "metadata": {},
   "outputs": [
    {
     "data": {
      "text/plain": [
       "[('a', 6),\n",
       " ('j', 5),\n",
       " ('h', 4),\n",
       " ('g', 4),\n",
       " ('s', 4),\n",
       " ('b', 4),\n",
       " ('n', 4),\n",
       " ('f', 3),\n",
       " ('k', 3),\n",
       " ('m', 3),\n",
       " ('d', 2),\n",
       " (',', 2),\n",
       " ('l', 2)]"
      ]
     },
     "execution_count": 52,
     "metadata": {},
     "output_type": "execute_result"
    }
   ],
   "source": [
    "b.most_common()"
   ]
  },
  {
   "cell_type": "code",
   "execution_count": 55,
   "metadata": {},
   "outputs": [],
   "source": [
    "d = collections.defaultdict(list)"
   ]
  },
  {
   "cell_type": "code",
   "execution_count": 56,
   "metadata": {},
   "outputs": [
    {
     "data": {
      "text/plain": [
       "defaultdict(list, {})"
      ]
     },
     "execution_count": 56,
     "metadata": {},
     "output_type": "execute_result"
    }
   ],
   "source": [
    "d"
   ]
  },
  {
   "cell_type": "code",
   "execution_count": 57,
   "metadata": {},
   "outputs": [
    {
     "data": {
      "text/plain": [
       "[]"
      ]
     },
     "execution_count": 57,
     "metadata": {},
     "output_type": "execute_result"
    }
   ],
   "source": [
    "d[1]"
   ]
  },
  {
   "cell_type": "code",
   "execution_count": 58,
   "metadata": {},
   "outputs": [
    {
     "data": {
      "text/plain": [
       "defaultdict(list, {1: []})"
      ]
     },
     "execution_count": 58,
     "metadata": {},
     "output_type": "execute_result"
    }
   ],
   "source": [
    "d"
   ]
  }
 ],
 "metadata": {
  "kernelspec": {
   "display_name": "Python 3",
   "language": "python",
   "name": "python3"
  },
  "language_info": {
   "codemirror_mode": {
    "name": "ipython",
    "version": 3
   },
   "file_extension": ".py",
   "mimetype": "text/x-python",
   "name": "python",
   "nbconvert_exporter": "python",
   "pygments_lexer": "ipython3",
   "version": "3.7.3"
  }
 },
 "nbformat": 4,
 "nbformat_minor": 2
}
